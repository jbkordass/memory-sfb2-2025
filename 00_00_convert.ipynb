{
 "cells": [
  {
   "cell_type": "markdown",
   "metadata": {},
   "source": [
    "# Convert\n",
    "\n",
    "From Brainvision format to .fif used by MNE Python."
   ]
  },
  {
   "cell_type": "code",
   "execution_count": null,
   "metadata": {},
   "outputs": [],
   "source": [
    "import mne\n",
    "from os import listdir\n",
    "from os.path import isdir, join\n",
    "import re\n",
    "from pathlib import Path"
   ]
  },
  {
   "cell_type": "markdown",
   "metadata": {},
   "source": [
    "As a root dir set home (there best add a symlink to relevant data)\n",
    "\n",
    "expected data folder directory structure is as follows\n",
    "\n",
    "* data/\n",
    "    * raw/\n",
    "        * sham \n",
    "        * sotDCS_anod \n",
    "        * sotDCS_cat \n",
    "        * tDCS\n",
    "    * proc/\n",
    "        * sham \n",
    "        * sotDCS_anod \n",
    "        * sotDCS_cat \n",
    "        * tDCS"
   ]
  },
  {
   "cell_type": "code",
   "execution_count": null,
   "metadata": {},
   "outputs": [],
   "source": [
    "root_dir = str(\"/media/Linux6_Data/DATA/SFB2\")\n",
    "\n",
    "raw_dir = join(root_dir, \"raw\") # get brainvision raw files from here\n",
    "proc_dir = join(root_dir, \"proc\") # save the processed .fif files here\n",
    "\n",
    "sub_dirs = [item for item in listdir(raw_dir) if isdir(join(raw_dir, item))]\n",
    "\n",
    "include = [[\"1002\", \"T2\"]]\n",
    "\n",
    "overwrite = True"
   ]
  },
  {
   "cell_type": "markdown",
   "metadata": {},
   "source": [
    "Files in brain vision format (.eeg, .vhdr, .vmrk)\n",
    "\n",
    "individual files are named analogous to \"NAP_0000_T0.eeg\""
   ]
  },
  {
   "cell_type": "code",
   "execution_count": null,
   "metadata": {},
   "outputs": [],
   "source": [
    "for subdir in sub_dirs:\n",
    "\n",
    "    print(f\"{subdir}\".center(80, '-'))\n",
    "    filelist = listdir(join(raw_dir, subdir)) # get list of all files in raw directory\n",
    "    proclist = listdir(join(proc_dir, subdir)) # and in proc directory\n",
    "\n",
    "    for file in filelist:\n",
    "\n",
    "        # find out subject id (4 digits) and condition (T1, T2, T3, T4) from file name\n",
    "        match = re.search(\"NAP_(?P<subj>\\\\d{4})_(?P<cond>T\\\\d{1}).vhdr\", file)\n",
    "        if not match:\n",
    "            continue\n",
    "        subj = match.group('subj')\n",
    "        cond = match.group('cond')\n",
    "        if include and [subj, cond] not in include:\n",
    "            continue\n",
    "\n",
    "        print(f\"Processing {subj} {cond}\")\n",
    "\n",
    "        # set the file name of the raw.fif file and check if it already exists in proc_dir\n",
    "        outfile =  f\"NAP_{subj}_{cond}-raw.fif\"\n",
    "        if outfile in proclist and not overwrite:\n",
    "            print(f\"{outfile} already exists in processing dir. Skipping...\")\n",
    "            continue\n",
    "\n",
    "        # actually do the conversion\n",
    "        try:\n",
    "            raw = mne.io.read_raw_brainvision(join(raw_dir, subdir, file),preload=True) \n",
    "            raw.save(join(proc_dir, subdir, outfile), overwrite=overwrite)\n",
    "        except Exception as e:\n",
    "            print (e)\n",
    "            print(f\"!!!   Having a problem with {subj} {cond}\")\n",
    "    "
   ]
  },
  {
   "cell_type": "markdown",
   "metadata": {},
   "source": []
  }
 ],
 "metadata": {
  "kernelspec": {
   "display_name": "mne",
   "language": "python",
   "name": "python3"
  },
  "language_info": {
   "codemirror_mode": {
    "name": "ipython",
    "version": 3
   },
   "file_extension": ".py",
   "mimetype": "text/x-python",
   "name": "python",
   "nbconvert_exporter": "python",
   "pygments_lexer": "ipython3",
   "version": "3.12.4"
  }
 },
 "nbformat": 4,
 "nbformat_minor": 2
}
