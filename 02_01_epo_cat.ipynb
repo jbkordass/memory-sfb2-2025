{
 "cells": [
  {
   "cell_type": "code",
   "execution_count": null,
   "metadata": {},
   "outputs": [],
   "source": [
    "import mne\n",
    "from os import listdir\n",
    "import re\n",
    "from os.path import isdir, join\n",
    "import pandas as pd"
   ]
  },
  {
   "cell_type": "markdown",
   "metadata": {},
   "source": [
    "\n",
    "<br>\n",
    "concatenate all epochs into one file<br>\n"
   ]
  },
  {
   "cell_type": "code",
   "execution_count": null,
   "metadata": {},
   "outputs": [],
   "source": [
    "root_dir = \"/media/Linux6_Data/DATA/SFB2\"\n",
    "proc_dir = join(root_dir, \"proc\")\n",
    "\n",
    "sub_dirs = [item for item in listdir(proc_dir) if isdir(join(proc_dir, item))]"
   ]
  },
  {
   "cell_type": "code",
   "execution_count": null,
   "metadata": {},
   "outputs": [],
   "source": [
    "overwrite = True\n",
    "epos = []\n",
    "for subdir in sub_dirs:\n",
    "\n",
    "    print(f\"{subdir}\".center(80, '-'))\n",
    "    proclist = listdir(join(proc_dir, subdir)) # and in proc directory\n",
    "    save_dir = join(proc_dir,subdir)\n",
    "\n",
    "    \n",
    "    for filename in proclist:\n",
    "        this_match = re.match(\"osc_NAP_(\\d{4})_(.*)_(.*)_(.*)_(.*)-epo.fif\", filename)\n",
    "        if not this_match:\n",
    "            continue\n",
    "        #(subj, cond, chan, osc_type) = this_match.groups()\n",
    "        epo = mne.read_epochs(join(proc_dir, subdir, filename))\n",
    "        epos.append(epo)\n",
    "\n",
    "grand_epo = mne.concatenate_epochs(epos)\n",
    "grand_epo.save(join(proc_dir, \"grand-epo.fif\"), overwrite=True)"
   ]
  }
 ],
 "metadata": {
  "kernelspec": {
   "display_name": "mne",
   "language": "python",
   "name": "python3"
  },
  "language_info": {
   "codemirror_mode": {
    "name": "ipython",
    "version": 3
   },
   "file_extension": ".py",
   "mimetype": "text/x-python",
   "name": "python",
   "nbconvert_exporter": "python",
   "pygments_lexer": "ipython3",
   "version": "3.12.4"
  }
 },
 "nbformat": 4,
 "nbformat_minor": 2
}
