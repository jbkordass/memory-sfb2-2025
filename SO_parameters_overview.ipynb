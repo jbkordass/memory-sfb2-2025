{
 "cells": [
  {
   "cell_type": "markdown",
   "metadata": {},
   "source": [
    "This script summarizes the output of SO parameters for each subject."
   ]
  },
  {
   "cell_type": "code",
   "execution_count": null,
   "metadata": {},
   "outputs": [],
   "source": [
    "import pandas as pd \n",
    "import numpy as np\n",
    "\n",
    "df_complete=pd.read_csv(\"/media/Linux6_Data/johnsm/data (input+output)/so_parameters.txt\", sep=\"\\t\")\n",
    "\n",
    "df_short=pd.DataFrame(columns=[\"subject\",\"area\",\"amount_anodal\",\"peak_amp_anodal\",\"trough_amp_anodal\",\"slope_anodal\",\n",
    "\"ptp_amp_anodal\",\"negative_duration_anodal\",\"positive_duration_anodal\",\"amount_cathodal\",\"peak_amp_cathodal\",\"trough_amp_cathodal\",\"slope_cathodal\",\n",
    "\"ptp_amp_cathodal\",\"negative_duration_cathodal\",\"positive_duration_cathodal\",\"amount_sham\",\"peak_amp_sham\",\"trough_amp_sham\",\n",
    "\"slope_sham\",\"ptp_amp_sham\",\"negative_duration_sham\",\"positive_duration_sham\"])\n",
    "\n",
    "for area in [\"frontal\",\"parietal\"]:\n",
    "    df=df_complete[(df_complete[\"k\"]== area)]\n",
    "    for subj in [1001,1002,1003,1004,1005,1006,1008,1011,1012,1013,1015,1020,1023,1036,1038,1042,1046,1054,1055,1056,1057,1059]:\n",
    "        df_subject_anodal=df[(df[\"subject\"] == subj)&(df[\"condition\"] == \"SOstim\")&(df[\"polarity\"] == \"anodal\")]\n",
    "        df_subject_cathodal=df[(df[\"subject\"] == subj)&(df[\"condition\"] == \"SOstim\")&(df[\"polarity\"] == \"cathodal\")]\n",
    "        df_subject_sham=df[(df[\"subject\"] == subj)&(df[\"condition\"] == \"sham\")]\n",
    "\n",
    "        if df_subject_anodal.empty:\n",
    "            aa,paa,taa,sa,ptpaa,nda,pda=0,0,0,0,0,0\n",
    "        else:\n",
    "            aa=len(df_subject_anodal)\n",
    "            paa=np.mean(df_subject_anodal[\"peak_amp\"])\n",
    "            taa=np.mean(df_subject_anodal[\"trough_amp\"])\n",
    "            sa=np.mean(df_subject_anodal[\"slope\"])\n",
    "            ptpaa=np.mean(df_subject_anodal[\"ptp\"])\n",
    "            nda=np.mean(df_subject_anodal[\"negative_duration\"])\n",
    "            pda=np.mean(df_subject_anodal[\"positive_duration\"])\n",
    "\n",
    "        if df_subject_cathodal.empty:\n",
    "            ac,pac,tac,sc,ptpac,ndc,pdc=0,0,0,0,0,0\n",
    "        else:\n",
    "            ac=len(df_subject_cathodal)\n",
    "            pac=np.mean(df_subject_cathodal[\"peak_amp\"])\n",
    "            tac=np.mean(df_subject_cathodal[\"trough_amp\"])\n",
    "            sc=np.mean(df_subject_cathodal[\"slope\"])\n",
    "            ptpac=np.mean(df_subject_cathodal[\"ptp\"])\n",
    "            ndc=np.mean(df_subject_cathodal[\"negative_duration\"])\n",
    "            pdc=np.mean(df_subject_cathodal[\"positive_duration\"])\n",
    "\n",
    "        if df_subject_sham.empty:\n",
    "            amounts,pas,tas,ss,ptpas,nds,pds=0,0,0,0,0,0\n",
    "        else:\n",
    "            amounts=len(df_subject_sham)\n",
    "            pas=np.mean(df_subject_sham[\"peak_amp\"])\n",
    "            tas=np.mean(df_subject_sham[\"trough_amp\"])\n",
    "            ss=np.mean(df_subject_sham[\"slope\"])\n",
    "            ptpas=np.mean(df_subject_sham[\"ptp\"])\n",
    "            nds=np.mean(df_subject_sham[\"negative_duration\"])\n",
    "            pds=np.mean(df_subject_sham[\"positive_duration\"])\n",
    "        \n",
    "        df_short.loc[len(df_short.index)]=[subj,area,aa,paa,taa,sa,ptpaa,nda,pda,ac,pac,tac,sc,ptpac,ndc,pdc,amounts,pas,tas,ss,ptpas,nds,pds]\n",
    "df_short=df_short.astype({\"subject\":\"int\"})\n",
    "\n",
    "df_short.to_csv(\"/media/Linux6_Data/johnsm/data (input+output)/so_parameters_short.txt\", sep = \"\\t\", index = False)"
   ]
  }
 ],
 "metadata": {
  "kernelspec": {
   "display_name": "mne",
   "language": "python",
   "name": "python3"
  },
  "language_info": {
   "codemirror_mode": {
    "name": "ipython",
    "version": 3
   },
   "file_extension": ".py",
   "mimetype": "text/x-python",
   "name": "python",
   "nbconvert_exporter": "python",
   "pygments_lexer": "ipython3",
   "version": "3.12.7"
  }
 },
 "nbformat": 4,
 "nbformat_minor": 2
}
