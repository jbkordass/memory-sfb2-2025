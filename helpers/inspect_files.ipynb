{
 "cells": [
  {
   "cell_type": "markdown",
   "metadata": {},
   "source": [
    "Visual inspection of all Datasets (*rp.fif).\n",
    "\n",
    "- All channels which are too noisy are marked as \"bads\". (raw.info[\"bads\"])\n",
    "- In addition strong artefacts are annotated as \"bad_block\". (raw.annotation)\n",
    "- All inspected files are stored as \"*_rpi.fif\" file.\n",
    "Bad Channels should be excluded \"mark_stimulation_algo\" and further analysis."
   ]
  },
  {
   "cell_type": "code",
   "execution_count": 12,
   "metadata": {},
   "outputs": [],
   "source": [
    "import mne\n",
    "from os import listdir,getcwd\n",
    "from os.path import isdir, join\n",
    "import re\n",
    "import pandas as pd"
   ]
  },
  {
   "cell_type": "code",
   "execution_count": 10,
   "metadata": {},
   "outputs": [],
   "source": [
    "root_dir = str(\"/media/Linux6_Data/DATA/SFB2\")\n",
    "proc_dir = join(root_dir, \"proc\") # working directory\n",
    "\n",
    "ignordir = [\"SO_epochs_NOdetr\",\"SO_epochs_detr\",\"figs\"]\n",
    "sub_dirs = [item for item in listdir(proc_dir) if isdir(join(proc_dir, item)) and item not in ignordir]\n",
    "\n",
    "n_jobs = 24\n",
    "\n",
    "overwrite = False\n",
    "\n",
    "testing = True # for testing, if True, only run once\n",
    "\n",
    "# include or exclude, ignored if empty\n",
    "exclude = [ [\"1003\", \"T2\"]]\n",
    "include = [ [\"1006\", \"T1\"],\n",
    "    #[\"1047\", \"T3\"]\n",
    "  # [\"1024\", \"T1\"],\n",
    "  # [\"1056\", \"T1\"],\n",
    "  # [\"1069\", \"T1\"],\n",
    "  # [\"1071\", \"T1\"],\n",
    "  # [\"1074\", \"T1\"],\n",
    "  # [\"1075\", \"T1\"],\n",
    "  # [\"1003\", \"T2\"],\n",
    "  # [\"1020\", \"T2\"],\n",
    "  # [\"1055\", \"T2\"],\n",
    "  # [\"1059\", \"T2\"],\n",
    "  # [\"1063\", \"T2\"],\n",
    "  # [\"1073\", \"T2\"],\n",
    "  # [\"1074\", \"T2\"],\n",
    "  # [\"1002\", \"T3\"],\n",
    "  # [\"1011\", \"T3\"],\n",
    "  # [\"1024\", \"T3\"],\n",
    "  # [\"1042\", \"T3\"],\n",
    "  # [\"1057\", \"T3\"],\n",
    "  # [\"1063\", \"T3\"],\n",
    "  # [\"1064\", \"T3\"],\n",
    "  # [\"1073\", \"T3\"],\n",
    "  # [\"1006\", \"T4\"],\n",
    "  # [\"1013\", \"T4\"],\n",
    "  # [\"1021\", \"T4\"],\n",
    "  # [\"1023\", \"T4\"],\n",
    "  # [\"1042\", \"T4\"],\n",
    "  # [\"1057\", \"T4\"],\n",
    "  # [\"1059\", \"T4\"],\n",
    "]"
   ]
  },
  {
   "cell_type": "code",
   "execution_count": 3,
   "metadata": {},
   "outputs": [
    {
     "name": "stdout",
     "output_type": "stream",
     "text": [
      "Reading /media/Linux6_Data/DATA/SFB2/proc/grand_frontal_SI-epo.fif ...\n",
      "    Found the data of interest:\n",
      "        t =   -2500.00 ...    2490.00 ms\n",
      "        0 CTF compensation matrices available\n",
      "Adding metadata with 11 columns\n",
      "38593 matching events found\n",
      "No baseline correction applied\n",
      "0 projection items activated\n"
     ]
    },
    {
     "ename": "NameError",
     "evalue": "name 'epoo' is not defined",
     "output_type": "error",
     "traceback": [
      "\u001b[0;31m---------------------------------------------------------------------------\u001b[0m",
      "\u001b[0;31mNameError\u001b[0m                                 Traceback (most recent call last)",
      "Cell \u001b[0;32mIn[3], line 5\u001b[0m\n\u001b[1;32m      3\u001b[0m epo \u001b[38;5;241m=\u001b[39m mne\u001b[38;5;241m.\u001b[39mread_epochs(join(proc_dir,epofile), preload\u001b[38;5;241m=\u001b[39m\u001b[38;5;28;01mTrue\u001b[39;00m)\n\u001b[1;32m      4\u001b[0m \u001b[38;5;66;03m#epoo = epo[\"Polarity=='cathodal'\"].copy()\u001b[39;00m\n\u001b[0;32m----> 5\u001b[0m \u001b[38;5;28;01massert\u001b[39;00m \u001b[38;5;28misinstance\u001b[39m(\u001b[43mepoo\u001b[49m\u001b[38;5;241m.\u001b[39mmetadata, pd\u001b[38;5;241m.\u001b[39mDataFrame)\n\u001b[1;32m      6\u001b[0m pd\u001b[38;5;241m.\u001b[39mset_option(\u001b[38;5;124m'\u001b[39m\u001b[38;5;124mdisplay.max_rows\u001b[39m\u001b[38;5;124m'\u001b[39m, \u001b[38;5;28;01mNone\u001b[39;00m)\n\u001b[1;32m      7\u001b[0m \u001b[38;5;28mprint\u001b[39m(epo\u001b[38;5;241m.\u001b[39mmetadata)\n",
      "\u001b[0;31mNameError\u001b[0m: name 'epoo' is not defined"
     ]
    }
   ],
   "source": [
    "\n",
    "epofile = \"grand_frontal_SI-epo.fif\"\n",
    "#epofile=\"osc_NAP_1012_stim_parietal_SO_anodal-epo.fif\"\n",
    "epo = mne.read_epochs(join(proc_dir,epofile), preload=True)\n",
    "#epoo = epo[\"Polarity=='cathodal'\"].copy()\n",
    "assert isinstance(epoo.metadata, pd.DataFrame)\n",
    "pd.set_option('display.max_rows', None)\n",
    "print(epo.metadata)\n",
    "\n",
    "#print(epo.metadata.loc[2:10])\n",
    "#epo = epo[\"Cond == sham\"]\n",
    "epo.plot()\n"
   ]
  },
  {
   "cell_type": "code",
   "execution_count": 11,
   "metadata": {},
   "outputs": [
    {
     "name": "stdout",
     "output_type": "stream",
     "text": [
      "----------------------------------sotDCS_anod-----------------------------------\n",
      "0\n",
      "-----------------------------------figs_last------------------------------------\n",
      "0\n",
      "-----------------------------------sotDCS_cat-----------------------------------\n",
      "0\n",
      "--------------------------------------sham--------------------------------------\n",
      "0\n",
      "Opening raw data file /media/Linux6_Data/DATA/SFB2/proc/sham/NAP_1006_T1-rpacb.fif...\n"
     ]
    },
    {
     "name": "stderr",
     "output_type": "stream",
     "text": [
      "/tmp/ipykernel_3110040/4095142094.py:33: RuntimeWarning: This filename (/media/Linux6_Data/DATA/SFB2/proc/sham/NAP_1006_T1-rpacb.fif) does not conform to MNE naming conventions. All raw files should end with raw.fif, raw_sss.fif, raw_tsss.fif, _meg.fif, _eeg.fif, _ieeg.fif, raw.fif.gz, raw_sss.fif.gz, raw_tsss.fif.gz, _meg.fif.gz, _eeg.fif.gz or _ieeg.fif.gz\n",
      "  raw = mne.io.Raw(join(proc_dir,subdir, file), preload=True)\n"
     ]
    },
    {
     "name": "stdout",
     "output_type": "stream",
     "text": [
      "    Range : 0 ... 1080407 =      0.000 ...  5402.035 secs\n",
      "Ready.\n",
      "Reading 0 ... 1080407  =      0.000 ...  5402.035 secs...\n",
      "Channels marked as bad:\n",
      "none\n",
      "--------------------------------------tDCS--------------------------------------\n",
      "0\n"
     ]
    }
   ],
   "source": [
    "number_of_preprocessed_files = 0\n",
    "\n",
    "for subdir in sub_dirs:\n",
    "\n",
    "    \n",
    "\n",
    "        print(f\"{subdir}\".center(80, '-'))\n",
    "        proclist = listdir(join(proc_dir, subdir)) # and in proc directory\n",
    "\n",
    "        print(number_of_preprocessed_files)\n",
    "\n",
    "        for file in proclist:\n",
    "             \n",
    "\n",
    "            # if we are testing, only apply preprocessing to one file\n",
    "            if testing and number_of_preprocessed_files > 0:\n",
    "                continue\n",
    "\n",
    "            match = re.match(\"NAP_(?P<subj>\\\\d{4})_(?P<cond>T\\\\d{1})-rpacb.fif\", file)\n",
    "            if not match:\n",
    "                continue\n",
    "            (subj, cond) = match.groups()\n",
    "            if [subj, cond] in exclude:\n",
    "                continue\n",
    "            if include and [subj, cond] not in include:\n",
    "                continue\n",
    "            outfile =  f\"NAP_{subj}_{cond}-rpi.fif\"\n",
    "            #if outfile in proclist and not overwrite:\n",
    "            #    print(f\"{outfile} already exists. Skipping...\")\n",
    "            #    continue\n",
    "            #annots = mne.read_annotations(join(proc_dir, subdir, file))\n",
    "            \n",
    "            raw = mne.io.Raw(join(proc_dir,subdir, file), preload=True)\n",
    "            #raw_view = raw.copy()\n",
    "            #raw_view.filter(l_freq=0.1, h_freq=20, n_jobs=n_jobs)\n",
    "            #for a in annots:\n",
    "            #    print(a)            \n",
    "            #raw_view.plot(block=True)\n",
    "            raw.plot(block=True, scalings=dict(eeg=20e-3), duration=700)\n",
    "            #raw.info[\"bads\"] = raw_view.info[\"bads\"] \n",
    "            #raw.set_annotations(raw_view.annotations)\n",
    "            #raw.save(join(proc_dir, subdir, outfile), overwrite=overwrite)\n",
    "            #print(\"Marked Bad Channel:\")\n",
    "            #print(raw.info[\"bads\"])\n",
    "            #print(\"Saved Bad channel info to raw file\")\n",
    "            "
   ]
  },
  {
   "cell_type": "code",
   "execution_count": 13,
   "metadata": {},
   "outputs": [
    {
     "name": "stdout",
     "output_type": "stream",
     "text": [
      "Opening raw data file /media/Linux6_Data/koenigs/cutout/sham/NAP_1006_T1-cutout_10-raw.fif...\n",
      "    Range : 3004980 ... 3064979 =   3004.980 ...  3064.979 secs\n",
      "Ready.\n",
      "Reading 0 ... 59999  =      0.000 ...    59.999 secs...\n",
      "Channels marked as bad:\n",
      "none\n"
     ]
    },
    {
     "data": {
      "text/plain": [
       "<mne_qt_browser._pg_figure.MNEQtBrowser at 0x7f075bf17140>"
      ]
     },
     "execution_count": 13,
     "metadata": {},
     "output_type": "execute_result"
    }
   ],
   "source": [
    "\n",
    "\n",
    "\n",
    "raw = mne.io.Raw(join('/media/Linux6_Data/koenigs/cutout/sham', 'NAP_1006_T1-cutout_10-raw.fif'), preload=True)\n",
    "raw.plot(block=True, scalings=dict(eeg=20e-3), duration=700)"
   ]
  },
  {
   "cell_type": "code",
   "execution_count": null,
   "metadata": {},
   "outputs": [],
   "source": []
  }
 ],
 "metadata": {
  "kernelspec": {
   "display_name": "mne",
   "language": "python",
   "name": "python3"
  },
  "language_info": {
   "codemirror_mode": {
    "name": "ipython",
    "version": 3
   },
   "file_extension": ".py",
   "mimetype": "text/x-python",
   "name": "python",
   "nbconvert_exporter": "python",
   "pygments_lexer": "ipython3",
   "version": "3.12.4"
  }
 },
 "nbformat": 4,
 "nbformat_minor": 2
}
