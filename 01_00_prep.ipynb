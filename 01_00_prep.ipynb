{
 "cells": [
  {
   "cell_type": "markdown",
   "metadata": {},
   "source": [
    "# Filter, resample, and organize the channels"
   ]
  },
  {
   "cell_type": "code",
   "execution_count": null,
   "metadata": {},
   "outputs": [],
   "source": [
    "import mne\n",
    "from os import listdir\n",
    "from os.path import isdir, join\n",
    "\n",
    "import re\n",
    "import numpy as np\n",
    "import matplotlib.pyplot as plt\n",
    "\n",
    "from pathlib import Path\n",
    "\n",
    "\n",
    "mne.utils.set_config('MNE_USE_CUDA', 'True')"
   ]
  },
  {
   "cell_type": "markdown",
   "metadata": {},
   "source": [
    "Expecting data folder directory structure as described in 00_00_convert"
   ]
  },
  {
   "cell_type": "code",
   "execution_count": null,
   "metadata": {},
   "outputs": [],
   "source": [
    "#root_dir = str(Path.home())\n",
    "root_dir = str(\"/media/Linux6_Data/DATA/SFB2\")\n",
    "proc_dir = join(root_dir, \"proc\") # working directory\n",
    "\n",
    "sub_dirs = [item for item in listdir(proc_dir) if isdir(join(proc_dir, item))]\n",
    "\n",
    "l_freq = 0.1\n",
    "h_freq = 100\n",
    "n_jobs = 24 #= \"cuda\" # change this to 1 or some higher integer if you don't have CUDA\n",
    "sfreq = 200 # frequency to resample to\n",
    "\n",
    "include = [[\"1002\", \"T2\"]]\n",
    "overwrite = True\n",
    "\n",
    "testing = False # for testing, only run once\n",
    "number_of_preprocessed_files = 0"
   ]
  },
  {
   "cell_type": "code",
   "execution_count": null,
   "metadata": {},
   "outputs": [],
   "source": [
    "for subdir in sub_dirs:\n",
    "\n",
    "    print(f\"{subdir}\".center(80, '-'))\n",
    "    proclist = listdir(join(proc_dir, subdir)) # and in proc directory\n",
    "\n",
    "    for file in proclist:\n",
    "\n",
    "        # if we are testing, only apply preprocessing to one file\n",
    "        if testing and number_of_preprocessed_files > 0:\n",
    "            continue\n",
    "\n",
    "        # find out subject id (4 digits) and condition (T1, T2, T3, T4) from file name\n",
    "        match = re.search(\"NAP_(?P<subj>\\\\d{4})_(?P<cond>T\\\\d{1})-raw.fif\", file)\n",
    "        if not match:\n",
    "            continue\n",
    "        subj = match.group('subj')\n",
    "        cond = match.group('cond')\n",
    "        if include and [subj, cond] not in include:\n",
    "            continue\n",
    "        \n",
    "        print(f\"Processing {subj} {cond}\")\n",
    "\n",
    "        # set the file name of the output .fif file and check if it already exists in proc_dir\n",
    "        #outfile =  f\"NAP_{subj}_{cond}-01_00_prep.fif\"\n",
    "        outfile =  f\"NAP_{subj}_{cond}-rp.fif\"\n",
    "        if outfile in proclist and not overwrite:\n",
    "            print(f\"{outfile} already exists in processing dir. Skipping...\")\n",
    "            continue\n",
    "\n",
    "        number_of_preprocessed_files += 1\n",
    "\n",
    "        # actually do the preprocessing\n",
    "        try:\n",
    "            raw = mne.io.Raw(join(proc_dir, subdir, file), preload=True)\n",
    "\n",
    "            # TODO: Low/Highpass filter (possibly apply a highpass filter 0.1..)\n",
    "            #raw.filter(l_freq=l_freq, h_freq=h_freq, n_jobs=n_jobs)\n",
    "\n",
    "            # apply a notch filter to remove power line artifact\n",
    "            raw.notch_filter(np.arange(50, h_freq+50, 50), n_jobs=n_jobs)\n",
    "    \n",
    "            # resample to lower frequency \n",
    "            raw.resample(sfreq, n_jobs=n_jobs)\n",
    "\n",
    "            # create EOG/EMG channels\n",
    "            if \"HEOG\" not in raw.ch_names:\n",
    "                raw = mne.set_bipolar_reference(raw, \"Li\", \"Re\", ch_name=\"HEOG\")\n",
    "                raw.set_channel_types({\"HEOG\":\"eog\"})\n",
    "            if \"Mov\" not in raw.ch_names:\n",
    "                raw = mne.set_bipolar_reference(raw, \"MovLi\", \"MovRe\", ch_name=\"Mov\")\n",
    "                raw.set_channel_types({\"Mov\":\"emg\"})\n",
    "            if \"VEOG\" not in raw.ch_names and \"Vo\" in raw.ch_names and \"Vu\" in raw.ch_names:\n",
    "                raw = mne.set_bipolar_reference(raw, \"Vo\", \"Vu\", ch_name=\"VEOG\")\n",
    "                raw.set_channel_types({\"VEOG\":\"eog\"})\n",
    "\n",
    "            raw.save(join(proc_dir, subdir, outfile), overwrite=overwrite)\n",
    "\n",
    "        except Error as e:\n",
    "            print(f\"!!!   Having a problem with {subj} {cond}\")\n",
    "            print(e)\n",
    "    "
   ]
  }
 ],
 "metadata": {
  "kernelspec": {
   "display_name": "mne",
   "language": "python",
   "name": "python3"
  },
  "language_info": {
   "codemirror_mode": {
    "name": "ipython",
    "version": 3
   },
   "file_extension": ".py",
   "mimetype": "text/x-python",
   "name": "python",
   "nbconvert_exporter": "python",
   "pygments_lexer": "ipython3",
   "version": "3.12.4"
  }
 },
 "nbformat": 4,
 "nbformat_minor": 2
}
